{
 "cells": [
  {
   "cell_type": "markdown",
   "metadata": {},
   "source": [
    "## What is stacking\n",
    "\n",
    "Stacking is to level up models so that the outputs of the previous layer become the inputs of the next layer. "
   ]
  },
  {
   "cell_type": "markdown",
   "metadata": {},
   "source": [
    "## New feature generation process for training set"
   ]
  },
  {
   "cell_type": "markdown",
   "metadata": {},
   "source": [
    "As is said before, stacking is to generate new features(outputs of the previous layer) and feed them into the next layer. This process can be explained by the picture below:\n",
    "![](./stacking.jpeg)\n",
    "\n",
    "As we can see in this picture, for level 1 we actually has 2 models, $model_1$ and $model_2$, and thay are independent of each other. There is no feature/parameter sharing in $model_1$ and $model_2$. The training and testing processes of these two models are independent.\n",
    "\n",
    "Take model1 as an example. Here are the steps of how new training features are generated:\n",
    "1. the training set is divided into $K$ folds;\n",
    "2. for each fold, we use it to train $model_1$, and get the corresponing predicted value(new feature) set for each fold; combine those predicted values, we get the predicted value(new feature) set  $P_1$ for the whole traininng set from $model_1$;\n",
    "\n",
    "For $model_2$, the process is very alike, we will get a predicted value set $P_2$. Supposing we have 5 models for level 1, then we will get a predicted set $[P_1, P_2, P_3, P_4,P_5]$. And usually we concatenate them with the original features and feed them to the next layer to train."
   ]
  },
  {
   "cell_type": "markdown",
   "metadata": {},
   "source": [
    "## New feature generation process for test set\n",
    "\n",
    "For test set, after training $model_1$ with each fold, we will make a prediction using the whole test set. So for each testing example, it is predicted $K$ times. The mean value of these $K$ predicted values is calculated and choosen to be the final predicted value (new feature) for each testing sample. "
   ]
  },
  {
   "cell_type": "code",
   "execution_count": null,
   "metadata": {},
   "outputs": [],
   "source": []
  }
 ],
 "metadata": {
  "kernelspec": {
   "display_name": "mytorch",
   "language": "python",
   "name": "mytorch"
  },
  "language_info": {
   "codemirror_mode": {
    "name": "ipython",
    "version": 3
   },
   "file_extension": ".py",
   "mimetype": "text/x-python",
   "name": "python",
   "nbconvert_exporter": "python",
   "pygments_lexer": "ipython3",
   "version": "3.9.2"
  }
 },
 "nbformat": 4,
 "nbformat_minor": 4
}
