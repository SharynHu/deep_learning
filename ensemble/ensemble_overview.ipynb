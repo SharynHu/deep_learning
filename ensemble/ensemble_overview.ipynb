{
 "cells": [
  {
   "cell_type": "markdown",
   "metadata": {},
   "source": [
    "## Weak learner and strong learner\n",
    "\n",
    "A weak learner produces a classifier which is only slightly more accurate than random classification.\n",
    "\n",
    "A class of concepts is learnable (or strongly learnable) if there exists a polynomial-time algorithm that achieves **low error with high confidence** for all concepts in the class."
   ]
  },
  {
   "cell_type": "markdown",
   "metadata": {},
   "source": [
    "## Ensemble models\n",
    "Ensemble learning is a machine learning paradigm where multiple models (often called “weak learners”) are trained to solve the same problem and combined to get better results.\n",
    " \n",
    "**The main hypothesis is that when weak models are correctly combined we can obtain more accurate and/or robust models.**\n",
    "\n",
    "Most of the time, weak leaners perform not so well by themselves **either because they have a high bias (low degree of freedom models, for example) or because they have too much variance to be robust** (high degree of freedom models, for example). Then, **the idea of ensemble methods is to try reducing bias and/or variance of such weak learners by combining several of them together in order to create a \n",
    "strong learner(or ensemble model) that achieves better performances**.\n",
    "\n",
    "We can mention three major kinds of meta-algorithms that aims at combining weak learners:\n",
    "- **bagging**, that often considers homogeneous weak learners, learns them independently from each other in parallel and combines them following some kind of deterministic averaging process;\n",
    "- **boosting**, that often considers homogeneous weak learners, learns them sequentially in a very adaptative way (a base model depends on the previous ones) and combines them following a deterministic strategy;\n",
    "- **stacking**, that often considers heterogeneous weak learners, learns them in parallel and combines them by training a meta-model to output a prediction based on the different weak models predictions"
   ]
  },
  {
   "cell_type": "markdown",
   "metadata": {},
   "source": [
    "## Performance\n",
    "\n",
    "- Ensembles of models perform at least as good as each of the ensemble members it consists of. "
   ]
  },
  {
   "cell_type": "code",
   "execution_count": null,
   "metadata": {},
   "outputs": [],
   "source": []
  }
 ],
 "metadata": {
  "kernelspec": {
   "display_name": "mytorch",
   "language": "python",
   "name": "mytorch"
  },
  "language_info": {
   "codemirror_mode": {
    "name": "ipython",
    "version": 3
   },
   "file_extension": ".py",
   "mimetype": "text/x-python",
   "name": "python",
   "nbconvert_exporter": "python",
   "pygments_lexer": "ipython3",
   "version": "3.9.2"
  }
 },
 "nbformat": 4,
 "nbformat_minor": 4
}
