{
 "cells": [
  {
   "cell_type": "markdown",
   "metadata": {},
   "source": [
    "## Snapshot Ensemble\n",
    "\n",
    "Snapshot ensemble is to learn an ensemble of multiple neural networks without incurring any additional training costs."
   ]
  },
  {
   "cell_type": "markdown",
   "metadata": {},
   "source": [
    "## Observations in support of this idea\n",
    "\n",
    "1. Although different local minima often have very similar error rates, the corresponding neural networks tend to make different mistakes. So we can parameterize a neural netowrk at diffierent local minima and group these different realizations into an ensemble model;\n",
    "2. In SGD, initially the learning rate is kept high to move into the general vicinity of a flat local minimum. Once this search has reached a stage in which no further progress is made, the learning rate is dropped (once or twice), triggering a descent, and ultimately convergence, to the final local minimum."
   ]
  },
  {
   "cell_type": "markdown",
   "metadata": {},
   "source": [
    "## Training procedure\n",
    "\n",
    "Snapshot ensembleleverages the non-convex nature of neural networks and the ability of SGD to converge to and escape from local minima on demand. Instead of training M neural networks independently from scratch, SGD converges M times to local minima along its optimization path. Each time the model converges, the\n",
    "weights are saved and the corresponding network is added to the ensemble.\n",
    "\n",
    "This is accomplished through controling the learning rate. The learning priodically rises and drops like a cosine function to prtiodically find minima and escape from the current minimum."
   ]
  },
  {
   "cell_type": "markdown",
   "metadata": {},
   "source": []
  }
 ],
 "metadata": {
  "kernelspec": {
   "display_name": "mytorch",
   "language": "python",
   "name": "mytorch"
  },
  "language_info": {
   "codemirror_mode": {
    "name": "ipython",
    "version": 3
   },
   "file_extension": ".py",
   "mimetype": "text/x-python",
   "name": "python",
   "nbconvert_exporter": "python",
   "pygments_lexer": "ipython3",
   "version": "3.9.2"
  }
 },
 "nbformat": 4,
 "nbformat_minor": 4
}
