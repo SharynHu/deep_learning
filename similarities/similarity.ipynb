{
 "cells": [
  {
   "cell_type": "markdown",
   "id": "289c817f-524e-4013-b0b8-42b4f2fe8a2c",
   "metadata": {},
   "source": [
    "## Cosine Similarity\n",
    "\n",
    "Cosine Similarity is used to measure the similarity between 2 vectors.\n",
    "\n",
    "Given two vectors $\\mathbf{u}$ and $\\mathbf{v}$, the cosine similarity betwwen the two vectors is\n",
    "$$cosine\\_similarity(\\mathbf{u}, \\mathbf{v}) = \n",
    "\\begin{cases} \n",
    "\\frac{\\mathbf{u}\\cdot\\mathbf{v}}{|\\mathbf{u}|\\times|\\mathbf{v}|}, \\text{if } \\mathbf{u}\\cdot\\mathbf{v} \\ge 0 \\\\\n",
    "0, \\text{otherwise}\n",
    "\\end{cases}$$"
   ]
  },
  {
   "cell_type": "markdown",
   "id": "b34e993d-195e-4156-bd7b-d649caa4611f",
   "metadata": {},
   "source": [
    "## Jaccard Similarity\n",
    "\n",
    "Jaccard similarity is used to measure the similarity between 2 sets.\n",
    "\n",
    "$$J(A, B)=\\frac{|A\\cap B|}{|A\\cup B|}$$"
   ]
  },
  {
   "cell_type": "markdown",
   "id": "6c86d41c-9c43-48bc-a28d-827d0bdd13ef",
   "metadata": {},
   "source": [
    "## Kullback-Leibler Distance\n",
    "\n",
    "The KL divergence is used to measure the similarity between 2 p.d.f.\n",
    "\n",
    "Suppose random variable $X$ is subject to probability distribution $P$, and its p.d.f is $p(x)$, and there is another probability distribution $Q$, whose p.d.f is $q(x)$. if we use $Q$ to estimate $P$, then the KL divergence between $P$ and $Q$ is \n",
    "$$D_{KL}(P||Q)=E_{x\\sim P}\\log{\\frac{p(x)}{q(x)}}$$\n",
    "\n",
    "**$D_{KL}(P||Q)$ measures the entropy loss when we use $Q$ to measure $P$**.\n",
    "\n",
    "It alse measures the extra bits we need when using $Q$ to encode $X$.\n",
    "\n",
    "### Properties of KL divergence\n",
    "1. KL divergence is not symmetrc;\n",
    "$$D_{\\mathrm{KL}}(P\\|Q) \\neq D_{\\mathrm{KL}}(Q\\|P).$$\n",
    "2. KL divergence is non-negtive;\n",
    "$$ D_{\\mathrm{KL}}(P||Q) \\geq 0.$$\n",
    "$ D_{\\mathrm{KL}}(P||Q) = 0$ only when $P=Q$"
   ]
  },
  {
   "cell_type": "code",
   "execution_count": null,
   "id": "823f86c3-f70f-4cec-a868-412cd86e4d7e",
   "metadata": {},
   "outputs": [],
   "source": []
  }
 ],
 "metadata": {
  "kernelspec": {
   "display_name": "torch",
   "language": "python",
   "name": "torchtest"
  },
  "language_info": {
   "codemirror_mode": {
    "name": "ipython",
    "version": 3
   },
   "file_extension": ".py",
   "mimetype": "text/x-python",
   "name": "python",
   "nbconvert_exporter": "python",
   "pygments_lexer": "ipython3",
   "version": "3.9.12"
  }
 },
 "nbformat": 4,
 "nbformat_minor": 5
}
