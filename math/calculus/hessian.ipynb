{
 "cells": [
  {
   "cell_type": "markdown",
   "id": "b444c618-4dfe-416c-bbb8-357bbed7f2be",
   "metadata": {},
   "source": [
    "## The Heissian Matrix"
   ]
  },
  {
   "cell_type": "markdown",
   "id": "bfdc7920-f21f-461e-b64d-ee507ddf125c",
   "metadata": {},
   "source": [
    "The \"Hessian matrix\" of a multivariable function $f(x, y, z, \\dots)$ organizes all second partial derivatives into a matrix:\n",
    "\n",
    "![](./hessian.png)"
   ]
  },
  {
   "cell_type": "markdown",
   "id": "f472ea19-8c53-4657-979d-736b2822d322",
   "metadata": {},
   "source": [
    "So, two things to notice here:\n",
    "- This only makes sense for scalar-valued function.\n",
    "- This object $\\textbf{H}f$ is no ordinary matrix; it is a matrix with functions as entries. In other words, it is meant to be evaluated at some point $(x_0, y_0, \\dots)$.\n",
    "\n",
    "![](./hessian_evaluated.png)"
   ]
  },
  {
   "cell_type": "markdown",
   "id": "e83d781d-3999-407e-8100-81eacccb698e",
   "metadata": {},
   "source": [
    "## Hessian, maximum, minimum and saddle point\n",
    "\n",
    "To find the local maxmimum/minimum of a scalar fucntion, the first step is to find points satisfying\n",
    "\n",
    "$$\\nabla f(x,y,\\dots) = 0$$\n",
    "\n",
    "The second partial derivative test tells us how to verify whether this stable point is a local maximum, local minimum, or a saddle point. \n",
    "\n",
    "- When the eigenvalues of the function’s Hessian matrix at the zero-gradient position are all positive, we have a local minimum for the function.\n",
    "- When the eigenvalues of the function’s Hessian matrix at the zero-gradient position are all negative, we have a local maximum for the function.\n",
    "- When the eigenvalues of the function’s Hessian matrix at the zero-gradient position are negative and positive, we have a saddle point for the function.\n",
    "\n",
    "For high-dimensional problems the likelihood that at least some of the eigenvalues are negative is quite high. This makes saddle points more likely than local minima. "
   ]
  },
  {
   "cell_type": "code",
   "execution_count": null,
   "id": "6302fbde-eac5-4a16-b7ad-d777b8ec1abb",
   "metadata": {},
   "outputs": [],
   "source": []
  }
 ],
 "metadata": {
  "kernelspec": {
   "display_name": "torch",
   "language": "python",
   "name": "torchtest"
  },
  "language_info": {
   "codemirror_mode": {
    "name": "ipython",
    "version": 3
   },
   "file_extension": ".py",
   "mimetype": "text/x-python",
   "name": "python",
   "nbconvert_exporter": "python",
   "pygments_lexer": "ipython3",
   "version": "3.9.12"
  }
 },
 "nbformat": 4,
 "nbformat_minor": 5
}
