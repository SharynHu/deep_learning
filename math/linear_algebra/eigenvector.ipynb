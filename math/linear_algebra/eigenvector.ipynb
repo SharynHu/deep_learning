{
 "cells": [
  {
   "cell_type": "markdown",
   "id": "e33a0506-6f6a-46d0-9f2d-49ce3cf86406",
   "metadata": {},
   "source": [
    "## Why study eigenvalues\n",
    "\n",
    "A matrix can be seen as an operator working on vectors that rotaing and scaling them. It is hard to tell the properties of the operator by simply looking at its entries, instead, we can do eigen decomposition on it to grasp some of its properties."
   ]
  },
  {
   "cell_type": "markdown",
   "id": "6f3e7ac7-aed9-414e-98f9-72d16b26630e",
   "metadata": {
    "tags": []
   },
   "source": [
    "## Eigenvector\n",
    "\n",
    "The eigenvector of a square matrix $\\mathbf{A}$ is a **nonzero** vector $\\mathbf{v}$ such that:\n",
    "$$\\mathbf{Av}=\\lambda\\mathbf{v}$$\n",
    "\n",
    "**Note**: if $\\mathbf{v}$ is the eigenvector of matrix $\\mathbf{A}$, then any rescaled vector $s\\mathbf{v}$($s\\in\\mathbb{R}, s\\neq0$) is an eigenvector of $\\mathbf{A}$.\n",
    "\n",
    "Normally, a matrix rotate and strech a vector, but fot eigenvectors, the matrix only stretch them without rotating them."
   ]
  },
  {
   "cell_type": "markdown",
   "id": "b4e3c0ef-80f6-44b3-ba24-33d1c866a449",
   "metadata": {},
   "source": [
    "## Hermitian Matrix\n",
    "\n",
    "Hermitian Matrices are matrices that are conjugate symmetric, which means\n",
    "$$a_{ij}=\\overline{a_{ji}}$$\n",
    "\n",
    "For Hermitian matrices, they have the following properties:\n",
    "1. their eigenvalues are **real**;\n",
    "2. eigenvectors of distinct eigenvalues are **orthogonal**;\n",
    "3. for an hermitian matrix of size $n \\times n$, it has **$n$ orthonarmal eigenvectors**."
   ]
  },
  {
   "cell_type": "markdown",
   "id": "a15aac8c-45b6-4ef9-9a0d-9eee72d5a243",
   "metadata": {},
   "source": [
    "## Positive Definite Matrix\n",
    "\n",
    "There are two definitions for positive definite matrices.\n",
    "\n",
    "1. if a matrix $\\mathbf{A}$ satisfies: for any non-zero vector $\\mathbf{x}$, $\\mathbf{x}^T\\mathbf{A}\\mathbf{x}>0$, then this matrix is called positive definite;\n",
    "2.  if a matrix $\\mathbf{A}$ can be rewritten as \n",
    "    $$\\mathbf{A}=\\mathbf{X}\\mathbf{X}^T$$\n",
    "    for a certain matrix $\\mathbf{X}$, then this matrix is positive definite.\n",
    "\n",
    "For a positive definite matrix, its eigenvalues are always positive or null."
   ]
  },
  {
   "cell_type": "markdown",
   "id": "1ee01684-9590-4b73-9b91-a668f1a995e6",
   "metadata": {},
   "source": [
    "## Real Symmetric Matrix\n",
    "\n",
    "A real symmetric matrx is of course a hermitian matrix. So it has the 3 properties above:\n",
    "1. their eigenvalues are **real**;\n",
    "2. eigenvectors of distinct eigenvalues are **orthogonal**;\n",
    "3. for an real symmetric matrix of size $n \\times n$, it has **$n$ orthonarmal eigenvectors**.\n",
    "\n",
    "If this real symmetric matrix's eigenvalues are all positive, then it's positive definite."
   ]
  },
  {
   "cell_type": "markdown",
   "id": "15021a12-067a-4f60-8bb0-1bc055ce3173",
   "metadata": {},
   "source": [
    "## Eigen Decomposition\n",
    "\n",
    "Eigendecomposition decomposes a matrix into a set of eigenvectors and eigenvalues. The set of eigenvalues of a matrix is also called its spectrum.\n",
    "\n",
    "Traditionally, we put together the set of eigenvectors of $\\mathbf{A}$in a matrix denoted $\\mathbf{U}$. Each column of $\\mathbf{U}$ is an eigenvector of $\\mathbf{A}$.The eigenvalues are stored in a diagonal matrix (denoted $\\mathbf{\\Lambda}$), where the diagonal elements gives the eigenvalues (and all the other values\n",
    "are zeros). We can rewrite the first equation as:\n",
    "$$\\mathbf{AU}=\\mathbf{U \\Lambda}$$\n",
    "\n",
    "Or also as\n",
    "$$\\mathbf{A} = \\mathbf{U} \\Lambda \\mathbf{U}^{-1}$$"
   ]
  },
  {
   "cell_type": "markdown",
   "id": "376a974c-287d-4011-acb0-d0dd8c042619",
   "metadata": {},
   "source": [
    "## Eigen Decomposition for Real Symmetric Matrices\n",
    "\n",
    "For a real symmetric matrix, its eigenvectors of different eigenvalues are pair-wise orthogonal, and it implies that \n",
    "$$\\mathbf{U}^{-1}=\\mathbf{U}^T$$\n",
    "\n",
    "So, we can rewirte the eigen decomposition of $\\mathbf{A}$ as \n",
    "$$\\mathbf{A}=\\mathbf{U}\\mathbf{\\Lambda}\\mathbf{U}^T$$"
   ]
  },
  {
   "cell_type": "code",
   "execution_count": null,
   "id": "980ce8ec-ab10-4830-bf40-5efafb1977f9",
   "metadata": {},
   "outputs": [],
   "source": []
  }
 ],
 "metadata": {
  "kernelspec": {
   "display_name": "torch",
   "language": "python",
   "name": "torchtest"
  },
  "language_info": {
   "codemirror_mode": {
    "name": "ipython",
    "version": 3
   },
   "file_extension": ".py",
   "mimetype": "text/x-python",
   "name": "python",
   "nbconvert_exporter": "python",
   "pygments_lexer": "ipython3",
   "version": "3.9.12"
  }
 },
 "nbformat": 4,
 "nbformat_minor": 5
}
