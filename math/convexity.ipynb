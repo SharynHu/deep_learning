{
 "cells": [
  {
   "cell_type": "markdown",
   "id": "c0842f78-15ab-42ee-be69-1bb20d5cba19",
   "metadata": {},
   "source": [
    "## Convex Set\n",
    "\n",
    "A set $\\mathcal{X}$ in a vector space is convex if for any $a,b \\in \\mathcal{X}$ the line segment connecting $a$ and $b$ is also in $\\mathcal{X}$ . In mathematical terms this means that for all $\\lambda \\in [0,1]$  we have\n",
    "\n",
    "$$ \\lambda  a + (1-\\lambda)  b \\in \\mathcal{X} \\text{ whenever } a, b \\in \\mathcal{X}$$"
   ]
  },
  {
   "cell_type": "markdown",
   "id": "c3762860-7f5d-4062-a7bd-4415ffc030e4",
   "metadata": {},
   "source": [
    "## Convex Functions\n",
    "\n",
    "Now that we have convex sets we can introduce convex functions $f$. Given a convex set $\\mathcal{X}$, a function  $f: \\mathcal{X} \\to \\mathbb{R}$ is convex if for all $x, x' \\in \\mathcal{X}$ and for all $\\lambda \\in [0, 1]$ we have\n",
    "\n",
    "$$\\lambda f(x) + (1-\\lambda) f(x') \\geq f(\\lambda x + (1-\\lambda) x')$$"
   ]
  },
  {
   "cell_type": "markdown",
   "id": "468cf9ca-ced6-4c58-8c4f-96c34fa0c0a2",
   "metadata": {},
   "source": [
    "## Jensen's inequality\n",
    "\n",
    "Given a convex function $f$ , one of the most useful mathematical tools is Jensen’s inequality. It amounts to a generalization of the definition of convexity:\n",
    "$$\\sum_i \\alpha_i f(x_i)  \\geq f\\left(\\sum_i \\alpha_i x_i\\right)    \\text{ and }    E_X[f(X)]  \\geq f\\left(E_X[X]\\right),$$"
   ]
  },
  {
   "cell_type": "markdown",
   "id": "dff99760-e1a1-4120-b77e-344b69f85291",
   "metadata": {},
   "source": [
    "## Positive definite and positive semi-definite\n",
    "\n",
    "For a symmetric, real matrix $A$ of size $n \\times n$, if for any n-dimentional non-zero vector $\\mathbf{x}$ we have\n",
    "$$\\mathbf{x}^T A \\mathbf{x} \\gt 0 $$\n",
    "then $A$ is a positive definite matrix.\n",
    "\n",
    "Similarly, for a symmetric, real matrix $A$ of size $n \\times n$, if for any n-dimentional non-zero vector $\\mathbf{x}$ we have\n",
    "$$\\mathbf{x}^T A \\mathbf{x} \\ge 0 $$\n",
    "then $A$ is a positive semi-definite matrix."
   ]
  },
  {
   "cell_type": "markdown",
   "id": "2d93a414-e523-437e-bab6-5eefb79f5749",
   "metadata": {},
   "source": [
    "## The Hessian Matrix and Convexity\n",
    "\n",
    "A multi-dimensional function $f: \\mathbb{R}^n \\rightarrow \\mathbb{R}$ is convex if and only if $$\\mathbf{H} \\succeq 0$$"
   ]
  },
  {
   "cell_type": "code",
   "execution_count": null,
   "id": "18c7ff23-9d49-49ef-9b80-4fdb559f66d0",
   "metadata": {},
   "outputs": [],
   "source": []
  }
 ],
 "metadata": {
  "kernelspec": {
   "display_name": "torch",
   "language": "python",
   "name": "torchtest"
  },
  "language_info": {
   "codemirror_mode": {
    "name": "ipython",
    "version": 3
   },
   "file_extension": ".py",
   "mimetype": "text/x-python",
   "name": "python",
   "nbconvert_exporter": "python",
   "pygments_lexer": "ipython3",
   "version": "3.9.12"
  }
 },
 "nbformat": 4,
 "nbformat_minor": 5
}
