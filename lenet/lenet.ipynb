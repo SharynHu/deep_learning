{
 "cells": [
  {
   "cell_type": "markdown",
   "metadata": {},
   "source": [
    "## Structure of LeNet\n",
    "<img src=\"lenet.svg\">\n",
    "\n",
    "Lenet consists of:\n",
    "1. a set of CNN layers of kernel size 2 and 5;\n",
    "2. a set of average polling layer;\n",
    "3. a fully connected layer as the final classifier;\n",
    "4. sigmoid as the activation function;"
   ]
  },
  {
   "cell_type": "code",
   "execution_count": 1,
   "metadata": {},
   "outputs": [
    {
     "data": {
      "text/plain": [
       "<module 'dataset' from '/dssg/home/acct-hpc/hpchxj/deep_learning/lenet/../dlutils/dataset.py'>"
      ]
     },
     "execution_count": 1,
     "metadata": {},
     "output_type": "execute_result"
    }
   ],
   "source": [
    "import torch\n",
    "from torch import nn\n",
    "from torch.nn import Module\n",
    "from torch.utils.data import DataLoader\n",
    "import torchvision\n",
    "import sys\n",
    "sys.path.append(\"../dlutils\")\n",
    "import importlib\n",
    "import model\n",
    "import loss\n",
    "import train\n",
    "import dataset\n",
    "importlib.reload(model)\n",
    "importlib.reload(loss)\n",
    "importlib.reload(train)\n",
    "importlib.reload(dataset)"
   ]
  },
  {
   "cell_type": "code",
   "execution_count": 11,
   "metadata": {},
   "outputs": [],
   "source": [
    "lenet = torch.nn.Sequential(nn.Conv2d(1, 6, kernel_size=5, padding=2), nn.Sigmoid(), \\\n",
    "                      nn.AvgPool2d(kernel_size=2, stride=2), \\\n",
    "                      nn.Conv2d(6, 16, kernel_size=5), nn.Sigmoid(), \\\n",
    "                      nn.AvgPool2d(kernel_size=2, stride=2), nn.Flatten(), \\\n",
    "                      nn.Linear(16*5*5, 120), nn.Sigmoid(), \\\n",
    "                      nn.Linear(120, 84), nn.Sigmoid(), nn.Linear(84, 10))\n"
   ]
  },
  {
   "cell_type": "code",
   "execution_count": 12,
   "metadata": {},
   "outputs": [
    {
     "name": "stdout",
     "output_type": "stream",
     "text": [
      "Conv2d output shape: \t torch.Size([1, 6, 28, 28])\n",
      "Sigmoid output shape: \t torch.Size([1, 6, 28, 28])\n",
      "AvgPool2d output shape: \t torch.Size([1, 6, 14, 14])\n",
      "Conv2d output shape: \t torch.Size([1, 16, 10, 10])\n",
      "Sigmoid output shape: \t torch.Size([1, 16, 10, 10])\n",
      "AvgPool2d output shape: \t torch.Size([1, 16, 5, 5])\n",
      "Flatten output shape: \t torch.Size([1, 400])\n",
      "Linear output shape: \t torch.Size([1, 120])\n",
      "Sigmoid output shape: \t torch.Size([1, 120])\n",
      "Linear output shape: \t torch.Size([1, 84])\n",
      "Sigmoid output shape: \t torch.Size([1, 84])\n",
      "Linear output shape: \t torch.Size([1, 10])\n",
      "cpu\n"
     ]
    }
   ],
   "source": [
    "X = torch.rand(size=(1, 1, 28, 28), dtype=torch.float32)\n",
    "for layer in lenet:\n",
    "    X = layer(X)\n",
    "    print(layer.__class__.__name__, 'output shape: \\t', X.shape)\n",
    "## All the data are on CPU now\n",
    "print(list(lenet.parameters())[0].device)"
   ]
  },
  {
   "cell_type": "markdown",
   "metadata": {},
   "source": [
    "## Load Dataset "
   ]
  },
  {
   "cell_type": "code",
   "execution_count": 14,
   "metadata": {},
   "outputs": [],
   "source": [
    "from dataset import load_fashion_mnist_dataset\n",
    "# get Fashion-MNIST DataLoader\n",
    "batch_size = 256\n",
    "train_loader,test_loader=load_fashion_mnist_dataset(batch_size)"
   ]
  },
  {
   "cell_type": "markdown",
   "metadata": {},
   "source": [
    "## Loss"
   ]
  },
  {
   "cell_type": "code",
   "execution_count": 13,
   "metadata": {},
   "outputs": [],
   "source": [
    "loss = nn.CrossEntropyLoss()"
   ]
  },
  {
   "cell_type": "markdown",
   "metadata": {},
   "source": [
    "## Optimizer"
   ]
  },
  {
   "cell_type": "code",
   "execution_count": null,
   "metadata": {},
   "outputs": [],
   "source": [
    "lr = 0.9\n",
    "optimizer = torch.optim.SGD(lenet.parameters(), lr=lr)"
   ]
  },
  {
   "cell_type": "markdown",
   "metadata": {},
   "source": [
    "## Training"
   ]
  },
  {
   "cell_type": "code",
   "execution_count": null,
   "metadata": {},
   "outputs": [],
   "source": [
    "num_epochs = 10\n",
    "device = torch.device(\"cuda\" if torch.cuda.is_available() else \"cpu\")\n",
    "def init_params(m):\n",
    "     if type(m)==nn.Linear or type(m)==nn.Conv2d:\n",
    "        nn.init.xavier_uniform_(m.weight)\n",
    "    \n",
    "lenet.apply(init_params)\n",
    "lenet.to(device)\n",
    "loss.to(device)\n",
    "\n",
    "from train import train_3ch\n",
    "train_3ch(lenet, loss, num_epochs, train_loader, optimizer, test_loader, device )"
   ]
  },
  {
   "cell_type": "markdown",
   "metadata": {},
   "source": [
    "## LeNet using ReLU"
   ]
  },
  {
   "cell_type": "code",
   "execution_count": 15,
   "metadata": {},
   "outputs": [
    {
     "name": "stdout",
     "output_type": "stream",
     "text": [
      "Conv2d output shape: \t torch.Size([1, 6, 28, 28])\n",
      "ReLU output shape: \t torch.Size([1, 6, 28, 28])\n",
      "AvgPool2d output shape: \t torch.Size([1, 6, 14, 14])\n",
      "Conv2d output shape: \t torch.Size([1, 16, 10, 10])\n",
      "ReLU output shape: \t torch.Size([1, 16, 10, 10])\n",
      "AvgPool2d output shape: \t torch.Size([1, 16, 5, 5])\n",
      "Flatten output shape: \t torch.Size([1, 400])\n",
      "Linear output shape: \t torch.Size([1, 120])\n",
      "ReLU output shape: \t torch.Size([1, 120])\n",
      "Linear output shape: \t torch.Size([1, 84])\n",
      "ReLU output shape: \t torch.Size([1, 84])\n",
      "Linear output shape: \t torch.Size([1, 10])\n"
     ]
    }
   ],
   "source": [
    "lenet = nn.Sequential(nn.Conv2d(1, 6, kernel_size=5, padding=2), nn.ReLU(), \\\n",
    "                      nn.AvgPool2d(kernel_size=2, stride=2), \\\n",
    "                      nn.Conv2d(6, 16, kernel_size=5), nn.ReLU(), \\\n",
    "                      nn.AvgPool2d(kernel_size=2, stride=2), nn.Flatten(), \\\n",
    "                      nn.Linear(16*5*5, 120), nn.ReLU(), \\\n",
    "                      nn.Linear(120, 84), nn.ReLU(), nn.Linear(84, 10))\n",
    "\n",
    "X = torch.rand(size=(1, 1, 28, 28), dtype=torch.float32)\n",
    "for layer in lenet:\n",
    "    X = layer(X)\n",
    "    print(layer.__class__.__name__, 'output shape: \\t', X.shape)"
   ]
  },
  {
   "cell_type": "code",
   "execution_count": 16,
   "metadata": {},
   "outputs": [
    {
     "name": "stdout",
     "output_type": "stream",
     "text": [
      "epoch 0, training loss 0.005942, training accuracy 0.464633, testing loss 0.006130, testing accuracy 0.465200\n",
      "epoch 1, training loss 0.002113, training accuracy 0.785850, testing loss 0.002232, testing accuracy 0.774400\n",
      "epoch 2, training loss 0.001731, training accuracy 0.834567, testing loss 0.001864, testing accuracy 0.823900\n",
      "epoch 3, training loss 0.002049, training accuracy 0.800083, testing loss 0.002210, testing accuracy 0.791000\n",
      "epoch 4, training loss 0.001322, training accuracy 0.870917, testing loss 0.001482, testing accuracy 0.860500\n",
      "epoch 5, training loss 0.001381, training accuracy 0.865467, testing loss 0.001577, testing accuracy 0.853200\n",
      "epoch 6, training loss 0.001491, training accuracy 0.856450, testing loss 0.001690, testing accuracy 0.844400\n",
      "epoch 7, training loss 0.001597, training accuracy 0.838183, testing loss 0.001785, testing accuracy 0.829000\n",
      "epoch 8, training loss 0.001450, training accuracy 0.857300, testing loss 0.001676, testing accuracy 0.840800\n",
      "epoch 9, training loss 0.002541, training accuracy 0.740067, testing loss 0.002703, testing accuracy 0.730300\n"
     ]
    }
   ],
   "source": [
    "num_epochs = 10\n",
    "lr = 0.9\n",
    "optimizer = torch.optim.SGD(lenet.parameters(), lr=lr)\n",
    "train_3ch(lenet, loss, num_epochs,train_loader, optimizer, test_loader, device)"
   ]
  },
  {
   "cell_type": "code",
   "execution_count": null,
   "metadata": {},
   "outputs": [],
   "source": []
  }
 ],
 "metadata": {
  "kernelspec": {
   "display_name": "torch",
   "language": "python",
   "name": "torchtest"
  },
  "language_info": {
   "codemirror_mode": {
    "name": "ipython",
    "version": 3
   },
   "file_extension": ".py",
   "mimetype": "text/x-python",
   "name": "python",
   "nbconvert_exporter": "python",
   "pygments_lexer": "ipython3",
   "version": "3.9.12"
  }
 },
 "nbformat": 4,
 "nbformat_minor": 4
}
